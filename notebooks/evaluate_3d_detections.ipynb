{
 "cells": [
  {
   "cell_type": "markdown",
   "metadata": {},
   "source": [
    "# 3D detection from 2D images evaluation\n"
   ]
  },
  {
   "cell_type": "code",
   "execution_count": 11,
   "metadata": {},
   "outputs": [
    {
     "name": "stdout",
     "output_type": "stream",
     "text": [
      "/home/VICOMTECH/agarciaj/GitLab/bev2seg_2\n"
     ]
    }
   ],
   "source": [
    "import pickle\n",
    "import warnings\n",
    "import numpy as np\n",
    "import pandas as pd\n",
    "import math\n",
    "\n",
    "import seaborn as sns\n",
    "from tabulate import tabulate\n",
    "import matplotlib.pyplot as plt\n",
    "import json\n",
    "warnings.filterwarnings('ignore')\n",
    "#%cd /workspaces/bev2seg_2/\n",
    "%cd /home/VICOMTECH/agarciaj/GitLab/bev2seg_2\n",
    "\n",
    "DATA_PATH = \"./data/pipeline_3d_evaluations_old.pkl\""
   ]
  },
  {
   "cell_type": "markdown",
   "metadata": {},
   "source": [
    "## Evaluation Data Structure"
   ]
  },
  {
   "cell_type": "markdown",
   "metadata": {},
   "source": [
    "```python\n",
    "data = {\n",
    "    'scene_name_eval0':{\n",
    "        'openlabel_path': str,\n",
    "        'model_config':{\n",
    "            'scene':{\n",
    "                'scene_path':...,\n",
    "                'camera_name': 'CAM_FRONT'\n",
    "            },\n",
    "            'semantic':{\n",
    "                'raw2segmodel_path': ...,\n",
    "                'bev2segmodel_path': ...,\n",
    "                'merge_semantic_labels_flag': True,\n",
    "                'merge_dict': DEFAULT_MERGE_DICT,\n",
    "            },\n",
    "            'depth_estimation':{\n",
    "                'depth_pro_path':...\n",
    "            },\n",
    "            'scene_pcd':{\n",
    "            },\n",
    "            'instance_scene_pcd':{\n",
    "                'dbscan_samples': 15,\n",
    "                'dbscan_eps': 0.1,\n",
    "                'dbscan_jobs': None,\n",
    "                'lims': (np.inf, np.inf, np.inf),\n",
    "                'min_samples_per_instance': 250,\n",
    "                'max_distance': 50.0,\n",
    "                'max_height': 2.0\n",
    "            }\n",
    "        },\n",
    "        'eval_config':{\n",
    "            'camera_depth': 15.0,\n",
    "            'max_association_distance': 7.0,\n",
    "            'semantic_types': ['vehicle.car'],\n",
    "            'ignoring_names': ['ego_vehicle']\n",
    "        },\n",
    "        'frames': {\n",
    "            0: {\n",
    "                'semantic_type':{\n",
    "                    'num_gt_objs': 0,\n",
    "                    'num_dt_objs': 0,\n",
    "                    \n",
    "                    'metrics':{\n",
    "                        'tp': 0,\n",
    "                        'fp': 0,\n",
    "                        'fn': 0,\n",
    "                        'dd': [...],\n",
    "                        'ded': [...],\n",
    "                        'IoU_v': [...],\n",
    "                        'v2v_dist': [...],\n",
    "                        'bbd': [...]\n",
    "                    }\n",
    "                }\n",
    "            },\n",
    "            ...\n",
    "        }\n",
    "        \n",
    "    }\n",
    "}\n",
    "```"
   ]
  },
  {
   "cell_type": "code",
   "execution_count": 2,
   "metadata": {},
   "outputs": [],
   "source": [
    "def show_evaluated_models(data:dict):\n",
    "    evaluations = list(data.keys())\n",
    "    results = []\n",
    "    for e in evaluations:\n",
    "        num_frames      = len(data[e]['frames'].keys())\n",
    "        eval_config     = data[e]['eval_config']\n",
    "        model_config    = data[e]['model_config']\n",
    "        results.append([e, num_frames, json.dumps(eval_config, indent=4), json.dumps(model_config, indent=4)])\n",
    "    res = tabulate(results, headers=['Evaluation Name', 'Num frames', 'eval_config', 'model_config'])\n",
    "\n",
    "    print(f\"\\nSAVED EVALUATIONS IN {DATA_PATH}:\")\n",
    "    print(res)"
   ]
  },
  {
   "cell_type": "markdown",
   "metadata": {},
   "source": [
    "## Defined Functions"
   ]
  },
  {
   "cell_type": "code",
   "execution_count": 18,
   "metadata": {},
   "outputs": [],
   "source": [
    "def best_grid_shape(num_plots):\n",
    "    if num_plots == 1:\n",
    "        return (1, 1)\n",
    "    \n",
    "    best_rows, best_cols = None, None\n",
    "    min_diff = float('inf')  # Diferencia mínima entre filas y columnas\n",
    "    \n",
    "    for cols in range(1, math.ceil(math.sqrt(num_plots)) + 1):\n",
    "        rows = math.ceil(num_plots / cols)\n",
    "        diff = abs(rows - cols)  # Queremos minimizar la diferencia filas-columnas\n",
    "        \n",
    "        if diff < min_diff:\n",
    "            min_diff = diff\n",
    "            best_rows, best_cols = rows, cols\n",
    "    \n",
    "    return (best_rows, best_cols)\n",
    "\n",
    "def get_metric_for_each_gt_obj(data:dict, eval_name:str, metric_name:str):\n",
    "    assert eval_name in data\n",
    "    distinct_gt_uids = {}\n",
    "    last_fk = 0\n",
    "    for fk in data[eval_name]['frames'].keys():\n",
    "        for tp in data[eval_name]['frames'][fk]:\n",
    "            assignments = data[eval_name]['frames'][fk][tp]['assignments']\n",
    "            gt_uids = data[eval_name]['frames'][fk][tp]['gt_uids']\n",
    "            for idx, (i,_) in enumerate(assignments):\n",
    "                if gt_uids[i] not in distinct_gt_uids:\n",
    "                    distinct_gt_uids.update({gt_uids[i]: [0.0 if metric_name != 'ded' else (0.0, 0.0, 0.0) for _ in range(0, fk)]})\n",
    "                metric = data[eval_name]['frames'][fk][tp]['metrics'][metric_name][idx]\n",
    "                distinct_gt_uids[gt_uids[i]].append(metric)\n",
    "        last_fk = fk\n",
    "\n",
    "    # Fill frames where objects doesnt appear\n",
    "    for k, v in distinct_gt_uids.items():\n",
    "        fill_frames = last_fk-len(v) +1\n",
    "        if fill_frames == 0:\n",
    "            continue\n",
    "        for _ in range(fill_frames):\n",
    "            if metric_name == 'ded':\n",
    "                v.append((0.0, 0.0, 0.0))\n",
    "            else:\n",
    "                v.append(0.0)\n",
    "    \n",
    "    all_equal = True\n",
    "    for _, v in distinct_gt_uids.items():\n",
    "        all_equal = all_equal and len(v) == last_fk+1\n",
    "    assert all_equal\n",
    "    return distinct_gt_uids\n",
    "\n",
    "def show_metric_for_each_gt_obj(data:dict, eval_name:str, metric_name:str, yline:float=None):\n",
    "    distinct_gt_uids = get_metric_for_each_gt_obj(data, eval_name, metric_name)\n",
    "    uids = list(distinct_gt_uids.keys())\n",
    "\n",
    "    num_plots = len(uids)\n",
    "    rows, cols = best_grid_shape(num_plots)\n",
    "    rows, cols = 1, num_plots\n",
    "    fig, axes = plt.subplots(rows, cols, figsize=(cols * 4, rows * 4), sharex=False, sharey=True) \n",
    "    if rows == 1:\n",
    "        axes = np.array(axes).reshape(1, -1)\n",
    "\n",
    "    for i in range(rows * cols):\n",
    "        ax = axes[i // cols, i % cols]  # Selecciona el subplot correcto\n",
    "        if i < num_plots:\n",
    "            y = distinct_gt_uids[uids[i]]\n",
    "            x = list(range(0, len(y)))\n",
    "\n",
    "            ax.set_title(uids[i])\n",
    "\n",
    "            if metric_name != \"ded\":\n",
    "                ax.bar(x, y, color='orange')\n",
    "            else:\n",
    "                y = np.array(y).reshape((len(y), 3))\n",
    "                ax.bar(x, y[:, 0], color='red', label='x')\n",
    "                ax.bar(x, y[:, 1], color='green', label='y')\n",
    "                ax.bar(x, y[:, 2], color='blue', label='z')\n",
    "\n",
    "            if yline is not None:\n",
    "                ax.axhline(y=yline, color=\"red\")\n",
    "            ax.set_xlabel(\"Frame\")\n",
    "            ax.set_ylabel(\"BBD\")\n",
    "            ax.legend()\n",
    "        else:\n",
    "            ax.axis(\"off\")  # Apagar los subplots extra\n",
    "    plt.tight_layout()\n",
    "    plt.show()\n",
    "    "
   ]
  },
  {
   "cell_type": "markdown",
   "metadata": {},
   "source": [
    "## Results Visualization"
   ]
  },
  {
   "cell_type": "code",
   "execution_count": 12,
   "metadata": {},
   "outputs": [
    {
     "name": "stdout",
     "output_type": "stream",
     "text": [
      "\n",
      "SAVED EVALUATIONS IN ./data/pipeline_3d_evaluations_old.pkl:\n",
      "Evaluation Name      Num frames  eval_config                           model_config\n",
      "-----------------  ------------  ------------------------------------  -------------------------------------------------------------------------------------\n",
      "scene-0061                   39  {                                     {\n",
      "                                     \"camera_depth\": 15.0,                 \"scene\": {\n",
      "                                     \"max_association_distance\": 3.0,          \"scene_path\": \"./tmp/my_scene\",\n",
      "                                     \"association_dist_type\": \"v2v\",           \"camera_name\": \"CAM_FRONT\"\n",
      "                                     \"semantic_types\": [                   },\n",
      "                                         \"vehicle.car\"                     \"semantic\": {\n",
      "                                     ],                                        \"raw2segmodel_path\": \"models/segformer_nu_formatted/raw2seg_bev_mit-b0_v0.2\",\n",
      "                                     \"ignoring_names\": [                       \"bev2segmodel_path\": \"models/segformer_bev/raw2bevseg_mit-b0_v0.3\",\n",
      "                                         \"ego_vehicle\"                         \"merge_semantic_labels_flag\": true,\n",
      "                                     ]                                         \"merge_dict\": {\n",
      "                                 }                                                 \"vehicle.car\": [\n",
      "                                                                                       \"vehicle.bus.bendy\",\n",
      "                                                                                       \"vehicle.bus.rigid\",\n",
      "                                                                                       \"vehicle.car\",\n",
      "                                                                                       \"vehicle.construction\",\n",
      "                                                                                       \"vehicle.emergency.ambulance\",\n",
      "                                                                                       \"vehicle.emergency.police\",\n",
      "                                                                                       \"vehicle.trailer\",\n",
      "                                                                                       \"vehicle.truck\"\n",
      "                                                                                   ],\n",
      "                                                                                   \"vehicle.motorcycle\": [\n",
      "                                                                                       \"vehicle.bicycle\",\n",
      "                                                                                       \"vehicle.motorcycle\"\n",
      "                                                                                   ]\n",
      "                                                                               }\n",
      "                                                                           },\n",
      "                                                                           \"depth_estimation\": {\n",
      "                                                                               \"depth_pro_path\": \"./models/ml_depth_pro/depth_pro.pt\"\n",
      "                                                                           },\n",
      "                                                                           \"scene_pcd\": {},\n",
      "                                                                           \"instance_scene_pcd\": {\n",
      "                                                                               \"dbscan_samples\": 15,\n",
      "                                                                               \"dbscan_eps\": 0.1,\n",
      "                                                                               \"dbscan_jobs\": null,\n",
      "                                                                               \"lims\": [\n",
      "                                                                                   Infinity,\n",
      "                                                                                   Infinity,\n",
      "                                                                                   Infinity\n",
      "                                                                               ],\n",
      "                                                                               \"min_samples_per_instance\": 250,\n",
      "                                                                               \"max_distance\": 50.0,\n",
      "                                                                               \"max_height\": 2.0\n",
      "                                                                           }\n",
      "                                                                       }\n"
     ]
    }
   ],
   "source": [
    "data = None\n",
    "with open(DATA_PATH, \"rb\") as f:\n",
    "    data = pickle.load(f)\n",
    "\n",
    "show_evaluated_models(data)"
   ]
  },
  {
   "cell_type": "code",
   "execution_count": 13,
   "metadata": {},
   "outputs": [
    {
     "data": {
      "text/plain": [
       "{'vehicle.car': {'gt_uids': ['37'],\n",
       "  'dt_uids': ['446'],\n",
       "  'assignments': [(0, 0)],\n",
       "  'metrics': {'tp': 1,\n",
       "   'fp': 0,\n",
       "   'fn': 0,\n",
       "   'dd': [6.019889810122503],\n",
       "   'ded': [(0.11290051000000112, 0.8939474179999995, 0.00734334010000004)],\n",
       "   'IoU_v': [0.00017503030318621882],\n",
       "   'v2v_dist': [0.34703328073300305],\n",
       "   'bbd': [0.652966719266997]}}}"
      ]
     },
     "execution_count": 13,
     "metadata": {},
     "output_type": "execute_result"
    }
   ],
   "source": [
    "data['scene-0061']['frames'][9]"
   ]
  },
  {
   "cell_type": "code",
   "execution_count": 19,
   "metadata": {},
   "outputs": [
    {
     "data": {
      "image/png": "[encoded data removed]",
      "text/plain": [
       "<Figure size 2800x400 with 7 Axes>"
      ]
     },
     "metadata": {},
     "output_type": "display_data"
    }
   ],
   "source": [
    "show_metric_for_each_gt_obj(data, 'scene-0061', 'bbd', yline=1.0)"
   ]
  },
  {
   "cell_type": "code",
   "execution_count": 20,
   "metadata": {},
   "outputs": [
    {
     "data": {
      "image/png": "[encoded data removed]",
      "text/plain": [
       "<Figure size 2800x400 with 7 Axes>"
      ]
     },
     "metadata": {},
     "output_type": "display_data"
    }
   ],
   "source": [
    "show_metric_for_each_gt_obj(data, 'scene-0061', 'ded')"
   ]
  }
 ],
 "metadata": {
  "kernelspec": {
   "display_name": ".venv",
   "language": "python",
   "name": "python3"
  },
  "language_info": {
   "codemirror_mode": {
    "name": "ipython",
    "version": 3
   },
   "file_extension": ".py",
   "mimetype": "text/x-python",
   "name": "python",
   "nbconvert_exporter": "python",
   "pygments_lexer": "ipython3",
   "version": "3.10.12"
  }
 },
 "nbformat": 4,
 "nbformat_minor": 2
}
