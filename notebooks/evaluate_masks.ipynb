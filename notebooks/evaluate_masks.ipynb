{
 "cells": [
  {
   "cell_type": "markdown",
   "metadata": {},
   "source": [
    "# Preamble"
   ]
  },
  {
   "cell_type": "code",
   "execution_count": 36,
   "metadata": {},
   "outputs": [
    {
     "name": "stdout",
     "output_type": "stream",
     "text": [
      "/home/ag6154lk/BEV2Seg_2\n"
     ]
    }
   ],
   "source": [
    "import pickle\n",
    "import warnings\n",
    "import numpy as np\n",
    "import pandas as pd\n",
    "\n",
    "import seaborn as sns\n",
    "from tabulate import tabulate\n",
    "import matplotlib.pyplot as plt\n",
    "from matplotlib.pyplot import Axes\n",
    "\n",
    "warnings.filterwarnings('ignore')\n",
    "#%cd /workspaces/bev2seg_2/\n",
    "#%cd /home/VICOMTECH/agarciaj/GitLab/bev2seg_2\n",
    "%cd /home/ag6154lk/BEV2Seg_2\n",
    "\n",
    "DATA_PATH = \"./data/pipeline_mask_evaluations.pkl\"\n",
    "\n",
    "# Window = 5 and turning_threshold = 5.0 deg\n",
    "TRACK_TURN_FLAGS_5DEG = [False, False, False, False, False, False, False, False, False, False, False, False, False, False, False, False, False, False, True, True, True, True, True, True, True, True, False, False, False, False, False, False, False, False, False, False, False, False, False]"
   ]
  },
  {
   "cell_type": "markdown",
   "metadata": {},
   "source": [
    "## Functions"
   ]
  },
  {
   "cell_type": "code",
   "execution_count": 103,
   "metadata": {},
   "outputs": [],
   "source": [
    "from typing import List, Dict, Union, Tuple, TypedDict, Any\n",
    "\n",
    "# This represents the structure for the numerical evaluation metrics for a single frame.\n",
    "class EvaluationInfo(TypedDict):\n",
    "    mean_precision_per_class: List[float]\n",
    "    mean_accuracy_per_class: List[float]\n",
    "    mean_f1score_per_class: List[float]\n",
    "    mean_recall_per_class: List[float]\n",
    "    mean_iou_per_class: List[float]\n",
    "    conf_matrix: np.ndarray\n",
    "MaskEvaluation = Dict[\n",
    "    str, # The scene_name (e.g., 'scene_A')\n",
    "    Dict[\n",
    "        Union[int, str], # Keys can be integers (frame numbers) or strings ('labels', 'colors')\n",
    "        Union[EvaluationInfo, List[str], List[Tuple[int, int, int]]] # Values can be EvaluationInfo, List[str] or List[Tuple[int, int, int]]\n",
    "    ]\n",
    "]\n",
    "\n",
    "\n",
    "def show_evaluations(data:MaskEvaluation):\n",
    "    evaluated_scenes = list(data.keys())\n",
    "    results = []\n",
    "    for scene_name in evaluated_scenes:\n",
    "        scene = data[scene_name]\n",
    "        assert 'labels' in scene\n",
    "        assert 'colors' in scene\n",
    "        \n",
    "        frames = [fk for fk in scene.keys() if isinstance(fk, int)]\n",
    "        num_labels = len(scene['labels'])\n",
    "        num_frames = len(frames)\n",
    "\n",
    "        for fk in frames:\n",
    "            frame_data:EvaluationInfo = scene[fk]\n",
    "        results.append( (scene_name, num_frames, num_labels) )\n",
    "\n",
    "\n",
    "    results.sort(key=lambda x: x[0])\n",
    "    res = tabulate(results, headers=['Scene name', 'Num frames', 'Num labels'])\n",
    "\n",
    "    print(f\"SAVED EVALUATIONS IN {DATA_PATH}:\")\n",
    "    print(res)\n",
    "\n",
    "def plot_bars(y_values:np.ndarray,\n",
    "              x_values:np.ndarray=None, \n",
    "              labels:List[str]=None, \n",
    "              bar_label:str=None,\n",
    "              title:str=\"\", \n",
    "              xlabel:str = \"xlabel\", \n",
    "              ylabel:str = \"ylabel\", \n",
    "              colors:List[Tuple[int]]=None, \n",
    "              bar_width:float=0.8,\n",
    "              set_xlim:bool=False,\n",
    "              ylim:Tuple[float, float]=None,\n",
    "              label_rotation:float=0.0,\n",
    "              ax:Axes=None) -> Axes:\n",
    "    if ax is None:\n",
    "        ax = plt.gca()\n",
    "    if x_values is not None:\n",
    "        assert y_values.shape == x_values.shape\n",
    "    if colors is None:\n",
    "        colors = 'skyblue'\n",
    "\n",
    "    # RGB 0-255 -> 0-1    \n",
    "    if len(colors) == 1:\n",
    "        colors = np.array(colors[0]) / 255\n",
    "    else:\n",
    "        new_colors = []\n",
    "        for c in colors:\n",
    "            new_colors.append(np.array(c) / 255)\n",
    "        colors = new_colors\n",
    "    \n",
    "    if x_values is None:\n",
    "        x_values = np.array(list(range(len(y_values))))\n",
    "    \n",
    "    ax.bar(x_values, y_values, color=colors, align='center', width=bar_width, label=bar_label)\n",
    "    if ylim is not None:\n",
    "        ax.set_ylim(ylim)\n",
    "    if labels is not None:\n",
    "        ax.set_xticks(x_values, labels, rotation=label_rotation)\n",
    "\n",
    "    if set_xlim:\n",
    "        x_min_plot = x_values[0] - bar_width/2\n",
    "        x_max_plot = x_values[-1] + bar_width/2\n",
    "        ax.set_xlim(x_min_plot, x_max_plot)\n",
    "        \n",
    "    ax.set_title(title)\n",
    "    ax.set_xlabel(xlabel)\n",
    "    ax.set_ylabel(ylabel)\n",
    "    return ax\n",
    "\n",
    "\n",
    "def show_mean_iou_per_class_through_all_frames(\n",
    "        data:MaskEvaluation, \n",
    "        eval_name:str, \n",
    "        show_conf_matrix:bool = True, \n",
    "        conf_figure_title:str = \"\", \n",
    "        show_iou_figure:bool = True, \n",
    "        iou_figure_title:str = \"\"):\n",
    "    assert eval_name in data\n",
    "    assert 'labels'  in data[eval_name]\n",
    "    assert 'colors'  in data[eval_name]\n",
    "\n",
    "    frame_keys = list( data[eval_name].keys() )\n",
    "    frame_keys.pop(frame_keys.index('labels'))\n",
    "    frame_keys.pop(frame_keys.index('colors'))\n",
    "    labels = data[eval_name]['labels']\n",
    "    colors = data[eval_name]['colors']\n",
    "\n",
    "    assert len(frame_keys) > 0\n",
    "    first_conf_matrix = data[eval_name][frame_keys[0]]['conf_matrix']\n",
    "    accum_conf_matrix = np.zeros(first_conf_matrix.shape)\n",
    "\n",
    "    # Accum Conf Matrix\n",
    "    for fk in frame_keys: \n",
    "        assert 'conf_matrix' in data[eval_name][fk], f\"frame {fk} does not have 'conf_matrix'\" \n",
    "        accum_conf_matrix += data[eval_name][fk]['conf_matrix']\n",
    "\n",
    "\n",
    "    # Show Conf Matrix\n",
    "    if show_conf_matrix:\n",
    "        sns.heatmap(accum_conf_matrix, annot=True, cmap=\"Blues\", xticklabels=labels, yticklabels=labels)\n",
    "        plt.xlabel(\"Predicted\")\n",
    "        plt.ylabel(\"Actual\")\n",
    "        plt.title(conf_figure_title)\n",
    "        plt.show()\n",
    "\n",
    "    # mIoU\n",
    "    num_classes = accum_conf_matrix.shape[0]\n",
    "    iou_per_class = np.zeros(num_classes)\n",
    "    for c in range(num_classes):\n",
    "        tp = accum_conf_matrix[c, c]\n",
    "        fp = np.sum(accum_conf_matrix[c, :]) - tp\n",
    "        fn = np.sum(accum_conf_matrix[:, c]) - tp\n",
    "\n",
    "        denominator = tp + fp + fn\n",
    "        if denominator == 0:\n",
    "            iou_per_class[c] = np.nan\n",
    "        else:\n",
    "            iou_per_class[c] = tp / denominator\n",
    "\n",
    "    print(f\"Mean IoU per class along all frames: {iou_per_class}\")\n",
    "    valid_ious = np.array( [ v for v in iou_per_class if not np.isnan(v)] )\n",
    "    print(f\"Mean IoU along all frames: {np.mean(valid_ious)} std: {np.std(valid_ious)}\")\n",
    "\n",
    "    if show_iou_figure:\n",
    "        plot_bars(iou_per_class, \n",
    "                  labels=labels, \n",
    "                  colors=colors, \n",
    "                  title=iou_figure_title, \n",
    "                  xlabel=\"Class\", ylabel=\"IoU\", ylim=(0.0, 1.0))\n",
    "        plt.tight_layout()\n",
    "        plt.show()\n",
    "\n",
    "\n",
    "def plot_mean_iou_per_frame(\n",
    "        data:MaskEvaluation, \n",
    "        eval_name:str, \n",
    "        semantic_class:str, \n",
    "        title:str=None,\n",
    "        ax:Axes=None) -> Axes:\n",
    "    assert eval_name in data\n",
    "    assert 'labels'  in data[eval_name]\n",
    "    assert 'colors'  in data[eval_name]\n",
    "    \n",
    "    if ax is None:\n",
    "        ax = plt.gca()\n",
    "\n",
    "    frame_keys = list( data[eval_name].keys() )\n",
    "    frame_keys.pop(frame_keys.index('labels'))\n",
    "    frame_keys.pop(frame_keys.index('colors'))\n",
    "    labels = data[eval_name]['labels']\n",
    "    colors = data[eval_name]['colors']\n",
    "    \n",
    "    assert len(frame_keys) > 0\n",
    "    assert semantic_class in labels\n",
    "    semantic_index = labels.index(semantic_class)\n",
    "\n",
    "    iou_per_frame = np.zeros(len(frame_keys))\n",
    "\n",
    "    for fk in frame_keys:\n",
    "        assert semantic_index < len( data[eval_name][fk]['mean_iou_per_class'] ) \n",
    "        iou = data[eval_name][fk]['mean_iou_per_class'][semantic_index]\n",
    "        iou_per_frame[fk] = iou\n",
    "\n",
    "    # print(f\"IoU per frame for '{semantic_class}' class: {iou_per_frame}\")\n",
    "    iou_per_frame = np.array( [v if not np.isnan(v) else 0.0 for v in iou_per_frame] )\n",
    "    title = title if title is not None else f\"IoU evolution of {semantic_class}\"\n",
    "    \n",
    "    plot_bars(iou_per_frame, \n",
    "              colors=[colors[semantic_index]], \n",
    "              title=title, \n",
    "              bar_label=semantic_class,\n",
    "              xlabel=\"Frame\", ylabel=\"IoU\", \n",
    "              ylim=(0.0, 1.0), set_xlim=True, ax=ax)\n",
    "    return ax"
   ]
  },
  {
   "cell_type": "markdown",
   "metadata": {},
   "source": [
    "# Data Import"
   ]
  },
  {
   "cell_type": "code",
   "execution_count": 4,
   "metadata": {},
   "outputs": [
    {
     "name": "stdout",
     "output_type": "stream",
     "text": [
      "SAVED EVALUATIONS IN ./data/pipeline_mask_evaluations.pkl:\n",
      "Scene name      Num frames    Num labels\n",
      "------------  ------------  ------------\n",
      "scene-0061              38             4\n"
     ]
    }
   ],
   "source": [
    "data = None\n",
    "with open(DATA_PATH, \"rb\") as f:\n",
    "    data = pickle.load(f)\n",
    "show_evaluations(data)"
   ]
  },
  {
   "cell_type": "markdown",
   "metadata": {},
   "source": [
    "# Nosedemomento"
   ]
  },
  {
   "cell_type": "code",
   "execution_count": 17,
   "metadata": {},
   "outputs": [
    {
     "data": {
      "text/plain": [
       "{'mean_precision_per_class': array([0.81908922, 0.9665245 , 0.71071975, 0.78855525]),\n",
       " 'mean_recall_per_class': array([0.99698212, 0.30947678, 0.51284836, 0.76739318]),\n",
       " 'mean_accuracy_per_class': array([0.88488007, 0.92213535, 0.92667866, 0.88257027]),\n",
       " 'mean_f1score_per_class': array([0.89932294, 0.46883478, 0.5957845 , 0.7778303 ]),\n",
       " 'mean_iou_per_class': array([0.81706339, 0.30619477, 0.42428282, 0.63643396]),\n",
       " 'conf_matrix': array([[5.39145e+05, 3.30000e+01, 4.70000e+01, 1.55200e+03],\n",
       "        [7.16400e+03, 3.60330e+04, 2.30030e+04, 5.02320e+04],\n",
       "        [4.65920e+04, 1.21500e+03, 5.66600e+04, 6.01400e+03],\n",
       "        [6.53240e+04, 0.00000e+00, 1.20000e+01, 2.15550e+05]])}"
      ]
     },
     "execution_count": 17,
     "metadata": {},
     "output_type": "execute_result"
    }
   ],
   "source": [
    "data['scene-0061'][0]"
   ]
  },
  {
   "cell_type": "code",
   "execution_count": 104,
   "metadata": {},
   "outputs": [
    {
     "name": "stdout",
     "output_type": "stream",
     "text": [
      "Mean IoU per class along all frames: [0.76809149 0.1147224  0.30371796 0.35991885]\n",
      "Mean IoU along all frames: 0.3866126754503908 std: 0.23824068801392048\n"
     ]
    },
    {
     "data": {
      "image/png": "[encoded data removed]",
      "text/plain": [
       "<Figure size 640x480 with 1 Axes>"
      ]
     },
     "metadata": {},
     "output_type": "display_data"
    }
   ],
   "source": [
    "show_mean_iou_per_class_through_all_frames(data, 'scene-0061', show_conf_matrix=False, show_iou_figure=True)"
   ]
  },
  {
   "cell_type": "code",
   "execution_count": 105,
   "metadata": {},
   "outputs": [
    {
     "data": {
      "image/png": "[encoded data removed]",
      "text/plain": [
       "<Figure size 640x480 with 1 Axes>"
      ]
     },
     "metadata": {},
     "output_type": "display_data"
    }
   ],
   "source": [
    "plot_mean_iou_per_frame(data, 'scene-0061', 'background', title=\"\")\n",
    "plot_mean_iou_per_frame(data, 'scene-0061', 'driveable', title=\"\")\n",
    "plot_mean_iou_per_frame(data, 'scene-0061', 'occluded', title=\"\")\n",
    "plot_mean_iou_per_frame(data, 'scene-0061', 'occuped', title=\"IoU Evolution Through Frames\")\n",
    "plt.tight_layout()\n",
    "plt.show()"
   ]
  },
  {
   "cell_type": "code",
   "execution_count": 109,
   "metadata": {},
   "outputs": [
    {
     "data": {
      "image/png": "[encoded data removed]",
      "text/plain": [
       "<Figure size 1200x400 with 3 Axes>"
      ]
     },
     "metadata": {},
     "output_type": "display_data"
    },
    {
     "data": {
      "text/plain": [
       "['occluded', 'occuped', 'driveable']"
      ]
     },
     "execution_count": 109,
     "metadata": {},
     "output_type": "execute_result"
    }
   ],
   "source": [
    "semantic_classes = ['occluded', 'occuped', 'driveable']\n",
    "eval_name = 'scene-0061'\n",
    "\n",
    "fig, axes = plt.subplots(1, len(semantic_classes), figsize=(len(semantic_classes) * 4, 4), sharex=False, sharey=False) \n",
    "handles, legend_labels = [], []\n",
    "for i, c in enumerate(semantic_classes):\n",
    "    plot_mean_iou_per_frame(data, eval_name, c, title=\"\", ax=axes[i])\n",
    "    h, ll = axes[i].get_legend_handles_labels()\n",
    "    handles += h\n",
    "    legend_labels += ll\n",
    "\n",
    "fig.legend(handles, legend_labels,loc='lower center',ncol=len(legend_labels),bbox_to_anchor=(0.5, -0.05),frameon=False)\n",
    "\n",
    "plt.tight_layout()\n",
    "plt.show()\n",
    "legend_labels"
   ]
  }
 ],
 "metadata": {
  "kernelspec": {
   "display_name": ".venv",
   "language": "python",
   "name": "python3"
  },
  "language_info": {
   "codemirror_mode": {
    "name": "ipython",
    "version": 3
   },
   "file_extension": ".py",
   "mimetype": "text/x-python",
   "name": "python",
   "nbconvert_exporter": "python",
   "pygments_lexer": "ipython3",
   "version": "3.10.12"
  }
 },
 "nbformat": 4,
 "nbformat_minor": 2
}
